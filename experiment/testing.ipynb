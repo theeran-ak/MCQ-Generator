{
 "cells": [
  {
   "cell_type": "code",
   "execution_count": 1,
   "id": "77b7cf76",
   "metadata": {},
   "outputs": [
    {
     "name": "stdout",
     "output_type": "stream",
     "text": [
      "hello world\n"
     ]
    }
   ],
   "source": [
    "print(\"hello world\")"
   ]
  },
  {
   "cell_type": "code",
   "execution_count": 2,
   "id": "ab5b9b00",
   "metadata": {},
   "outputs": [],
   "source": [
    "import os\n",
    "import pandas as pd\n",
    "import traceback\n"
   ]
  },
  {
   "cell_type": "code",
   "execution_count": 3,
   "id": "f1267f43",
   "metadata": {},
   "outputs": [
    {
     "data": {
      "text/plain": [
       "True"
      ]
     },
     "execution_count": 3,
     "metadata": {},
     "output_type": "execute_result"
    }
   ],
   "source": [
    "from dotenv import load_dotenv\n",
    "load_dotenv()"
   ]
  },
  {
   "cell_type": "code",
   "execution_count": 135,
   "id": "f3d3ff1f",
   "metadata": {},
   "outputs": [],
   "source": [
    "from langchain.chat_models import ChatOpenAI"
   ]
  },
  {
   "cell_type": "code",
   "execution_count": 5,
   "id": "1ee7b661",
   "metadata": {},
   "outputs": [],
   "source": [
    "from langchain.prompts import PromptTemplate\n",
    "from langchain.chains import LLMChain\n",
    "from langchain.chains import SequentialChain"
   ]
  },
  {
   "cell_type": "code",
   "execution_count": 6,
   "id": "0ef773e2",
   "metadata": {},
   "outputs": [
    {
     "name": "stderr",
     "output_type": "stream",
     "text": [
      "C:\\Users\\Agathiyan\\AppData\\Local\\Temp\\ipykernel_24864\\4077676499.py:1: LangChainDeprecationWarning: The class `ChatOpenAI` was deprecated in LangChain 0.0.10 and will be removed in 1.0. An updated version of the class exists in the langchain-openai package and should be used instead. To use it run `pip install -U langchain-openai` and import as `from langchain_openai import ChatOpenAI`.\n",
      "  llm = ChatOpenAI(\n"
     ]
    }
   ],
   "source": [
    "llm = ChatOpenAI(\n",
    "    model=\"deepseek-ai/DeepSeek-V3:fireworks-ai\", \n",
    "    openai_api_base=\"https://router.huggingface.co/v1\",\n",
    "    openai_api_key=os.environ[\"HUGGINGFACEHUB_API_TOKEN\"],\n",
    "    temperature=0\n",
    ")"
   ]
  },
  {
   "cell_type": "code",
   "execution_count": 115,
   "id": "b1a75423",
   "metadata": {},
   "outputs": [],
   "source": [
    "X = {\n",
    "    \"1\": {\n",
    "        \"mcq\": \"multiple choice question\",\n",
    "        \"options\": {\n",
    "            \"a\": \"choice here\",\n",
    "            \"b\": \"choice here\",\n",
    "            \"c\": \"choice here\",\n",
    "            \"d\": \"choice here\",\n",
    "        },\n",
    "        \"correct\": \"correct answer\",\n",
    "    },\n",
    "    \"2\": {\n",
    "        \"mcq\": \"multiple choice question\",\n",
    "        \"options\": {\n",
    "            \"a\": \"choice here\",\n",
    "            \"b\": \"choice here\",\n",
    "            \"c\": \"choice here\",\n",
    "            \"d\": \"choice here\",\n",
    "        },\n",
    "        \"correct\": \"correct answer\",\n",
    "    },\n",
    "    \"3\": {\n",
    "        \"mcq\": \"multiple choice question\",\n",
    "        \"options\": {\n",
    "            \"a\": \"choice here\",\n",
    "            \"b\": \"choice here\",\n",
    "            \"c\": \"choice here\",\n",
    "            \"d\": \"choice here\",\n",
    "        },\n",
    "        \"correct\": \"correct answer\",\n",
    "    }\n",
    "}\n"
   ]
  },
  {
   "cell_type": "code",
   "execution_count": 116,
   "id": "d8aee12a",
   "metadata": {},
   "outputs": [],
   "source": [
    "Y = {\n",
    "    \"1\": {\n",
    "        \"mcq\": \"multiple choice question\",\n",
    "        \"options\": {\n",
    "            \"a\": \"choice here\",\n",
    "            \"b\": \"choice here\",\n",
    "            \"c\": \"choice here\",\n",
    "            \"d\": \"choice here\",\n",
    "        },\n",
    "        \"correct\": \"correct answer\",\n",
    "    },\n",
    "    \"2\": {\n",
    "        \"mcq\": \"multiple choice question\",\n",
    "        \"options\": {\n",
    "            \"a\": \"choice here\",\n",
    "            \"b\": \"choice here\",\n",
    "            \"c\": \"choice here\",\n",
    "            \"d\": \"choice here\",\n",
    "        },\n",
    "        \"correct\": \"correct answer\",\n",
    "    },\n",
    "    \"3\": {\n",
    "        \"mcq\": \"multiple choice question\",\n",
    "        \"options\": {\n",
    "            \"a\": \"choice here\",\n",
    "            \"b\": \"choice here\",\n",
    "            \"c\": \"choice here\",\n",
    "            \"d\": \"choice here\",\n",
    "        },\n",
    "        \"correct\": \"correct answer\",\n",
    "    },\n",
    "    \"review\": \"Review of the quality of the mcq\"\n",
    "}\n"
   ]
  },
  {
   "cell_type": "code",
   "execution_count": 117,
   "id": "37dcfe78",
   "metadata": {},
   "outputs": [],
   "source": [
    "prompt_mcq_generator=PromptTemplate.from_template(\"\"\"Content: {Text} .You are an english expert. Given the content you have to generate {Number} MCQ's for the student with the difficulty of {Difficulty}. The response should be of the format X.\\\n",
    "                                                  Return the result strictly in json format (not Python dict, not Markdown, no explanations)\\\n",
    "                                                  format of json\\\n",
    "                                                  {X}\"\"\")\n",
    "                                                  "
   ]
  },
  {
   "cell_type": "code",
   "execution_count": null,
   "id": "f1432ce3",
   "metadata": {},
   "outputs": [],
   "source": []
  },
  {
   "cell_type": "code",
   "execution_count": 118,
   "id": "5b1ca0e8",
   "metadata": {},
   "outputs": [],
   "source": [
    "prompt_mcq_evaluater=PromptTemplate.from_template(\"\"\"Quiz: {Quiz} .You are an Mcq evaluater expert. Given the mcq your role is to review the mcq and Provide a review of less than 50 words and then correct the MCQ's if the difficulty is not on par with {Difficulty}.\\\n",
    "                                                  And provide the final result of the format Y. Make sure that the number of questions is {Number} and the review is given in the review section.\\\n",
    "                                                  Return the result strictly in JSON format (not Python dict, not Markdown, no explanations)\\\n",
    "                                                  format of JSON:\\\n",
    "                                                  {Y}\"\"\")"
   ]
  },
  {
   "cell_type": "code",
   "execution_count": null,
   "id": "9a03f453",
   "metadata": {},
   "outputs": [],
   "source": []
  },
  {
   "cell_type": "code",
   "execution_count": 119,
   "id": "d6349d83",
   "metadata": {},
   "outputs": [],
   "source": [
    "mcq_generator=LLMChain(llm=llm,prompt=prompt_mcq_generator,output_key=\"Quiz\")\n",
    "mcq_evaluater=LLMChain(llm=llm,prompt=prompt_mcq_evaluater,output_key=\"Review\")"
   ]
  },
  {
   "cell_type": "code",
   "execution_count": 120,
   "id": "1502faf4",
   "metadata": {},
   "outputs": [],
   "source": [
    "chain=SequentialChain(chains=[mcq_generator,mcq_evaluater],input_variables=[\"Text\",\"Difficulty\",\"Number\",\"X\",\"Y\"],output_variables=[\"Quiz\",\"Review\"])"
   ]
  },
  {
   "cell_type": "code",
   "execution_count": 111,
   "id": "46ed7fff",
   "metadata": {},
   "outputs": [
    {
     "ename": "KeyError",
     "evalue": "'Number'",
     "output_type": "error",
     "traceback": [
      "\u001b[1;31m---------------------------------------------------------------------------\u001b[0m",
      "\u001b[1;31mKeyError\u001b[0m                                  Traceback (most recent call last)",
      "Cell \u001b[1;32mIn[111], line 1\u001b[0m\n\u001b[1;32m----> 1\u001b[0m \u001b[43mprompt_mcq_evaluater\u001b[49m\u001b[38;5;241;43m.\u001b[39;49m\u001b[43mformat\u001b[49m\u001b[43m(\u001b[49m\u001b[43mY\u001b[49m\u001b[38;5;241;43m=\u001b[39;49m\u001b[43mY\u001b[49m\u001b[43m,\u001b[49m\u001b[43mQuiz\u001b[49m\u001b[38;5;241;43m=\u001b[39;49m\u001b[43mX\u001b[49m\u001b[43m,\u001b[49m\u001b[43mDifficulty\u001b[49m\u001b[38;5;241;43m=\u001b[39;49m\u001b[38;5;124;43m\"\u001b[39;49m\u001b[38;5;124;43mHard\u001b[39;49m\u001b[38;5;124;43m\"\u001b[39;49m\u001b[43m)\u001b[49m\n",
      "File \u001b[1;32md:\\Gen AI\\mcq generator\\env\\lib\\site-packages\\langchain_core\\prompts\\prompt.py:179\u001b[0m, in \u001b[0;36mPromptTemplate.format\u001b[1;34m(self, **kwargs)\u001b[0m\n\u001b[0;32m    170\u001b[0m \u001b[38;5;250m\u001b[39m\u001b[38;5;124;03m\"\"\"Format the prompt with the inputs.\u001b[39;00m\n\u001b[0;32m    171\u001b[0m \n\u001b[0;32m    172\u001b[0m \u001b[38;5;124;03mArgs:\u001b[39;00m\n\u001b[1;32m   (...)\u001b[0m\n\u001b[0;32m    176\u001b[0m \u001b[38;5;124;03m    A formatted string.\u001b[39;00m\n\u001b[0;32m    177\u001b[0m \u001b[38;5;124;03m\"\"\"\u001b[39;00m\n\u001b[0;32m    178\u001b[0m kwargs \u001b[38;5;241m=\u001b[39m \u001b[38;5;28mself\u001b[39m\u001b[38;5;241m.\u001b[39m_merge_partial_and_user_variables(\u001b[38;5;241m*\u001b[39m\u001b[38;5;241m*\u001b[39mkwargs)\n\u001b[1;32m--> 179\u001b[0m \u001b[38;5;28;01mreturn\u001b[39;00m \u001b[43mDEFAULT_FORMATTER_MAPPING\u001b[49m\u001b[43m[\u001b[49m\u001b[38;5;28;43mself\u001b[39;49m\u001b[38;5;241;43m.\u001b[39;49m\u001b[43mtemplate_format\u001b[49m\u001b[43m]\u001b[49m\u001b[43m(\u001b[49m\u001b[38;5;28;43mself\u001b[39;49m\u001b[38;5;241;43m.\u001b[39;49m\u001b[43mtemplate\u001b[49m\u001b[43m,\u001b[49m\u001b[43m \u001b[49m\u001b[38;5;241;43m*\u001b[39;49m\u001b[38;5;241;43m*\u001b[39;49m\u001b[43mkwargs\u001b[49m\u001b[43m)\u001b[49m\n",
      "File \u001b[1;32md:\\Gen AI\\mcq generator\\env\\lib\\string.py:163\u001b[0m, in \u001b[0;36mFormatter.format\u001b[1;34m(self, format_string, *args, **kwargs)\u001b[0m\n\u001b[0;32m    162\u001b[0m \u001b[38;5;28;01mdef\u001b[39;00m\u001b[38;5;250m \u001b[39m\u001b[38;5;21mformat\u001b[39m(\u001b[38;5;28mself\u001b[39m, format_string, \u001b[38;5;241m/\u001b[39m, \u001b[38;5;241m*\u001b[39margs, \u001b[38;5;241m*\u001b[39m\u001b[38;5;241m*\u001b[39mkwargs):\n\u001b[1;32m--> 163\u001b[0m     \u001b[38;5;28;01mreturn\u001b[39;00m \u001b[38;5;28;43mself\u001b[39;49m\u001b[38;5;241;43m.\u001b[39;49m\u001b[43mvformat\u001b[49m\u001b[43m(\u001b[49m\u001b[43mformat_string\u001b[49m\u001b[43m,\u001b[49m\u001b[43m \u001b[49m\u001b[43margs\u001b[49m\u001b[43m,\u001b[49m\u001b[43m \u001b[49m\u001b[43mkwargs\u001b[49m\u001b[43m)\u001b[49m\n",
      "File \u001b[1;32md:\\Gen AI\\mcq generator\\env\\lib\\site-packages\\langchain_core\\utils\\formatting.py:31\u001b[0m, in \u001b[0;36mStrictFormatter.vformat\u001b[1;34m(self, format_string, args, kwargs)\u001b[0m\n\u001b[0;32m     26\u001b[0m \u001b[38;5;28;01mif\u001b[39;00m \u001b[38;5;28mlen\u001b[39m(args) \u001b[38;5;241m>\u001b[39m \u001b[38;5;241m0\u001b[39m:\n\u001b[0;32m     27\u001b[0m     \u001b[38;5;28;01mraise\u001b[39;00m \u001b[38;5;167;01mValueError\u001b[39;00m(\n\u001b[0;32m     28\u001b[0m         \u001b[38;5;124m\"\u001b[39m\u001b[38;5;124mNo arguments should be provided, \u001b[39m\u001b[38;5;124m\"\u001b[39m\n\u001b[0;32m     29\u001b[0m         \u001b[38;5;124m\"\u001b[39m\u001b[38;5;124meverything should be passed as keyword arguments.\u001b[39m\u001b[38;5;124m\"\u001b[39m\n\u001b[0;32m     30\u001b[0m     )\n\u001b[1;32m---> 31\u001b[0m \u001b[38;5;28;01mreturn\u001b[39;00m \u001b[38;5;28;43msuper\u001b[39;49m\u001b[43m(\u001b[49m\u001b[43m)\u001b[49m\u001b[38;5;241;43m.\u001b[39;49m\u001b[43mvformat\u001b[49m\u001b[43m(\u001b[49m\u001b[43mformat_string\u001b[49m\u001b[43m,\u001b[49m\u001b[43m \u001b[49m\u001b[43margs\u001b[49m\u001b[43m,\u001b[49m\u001b[43m \u001b[49m\u001b[43mkwargs\u001b[49m\u001b[43m)\u001b[49m\n",
      "File \u001b[1;32md:\\Gen AI\\mcq generator\\env\\lib\\string.py:167\u001b[0m, in \u001b[0;36mFormatter.vformat\u001b[1;34m(self, format_string, args, kwargs)\u001b[0m\n\u001b[0;32m    165\u001b[0m \u001b[38;5;28;01mdef\u001b[39;00m\u001b[38;5;250m \u001b[39m\u001b[38;5;21mvformat\u001b[39m(\u001b[38;5;28mself\u001b[39m, format_string, args, kwargs):\n\u001b[0;32m    166\u001b[0m     used_args \u001b[38;5;241m=\u001b[39m \u001b[38;5;28mset\u001b[39m()\n\u001b[1;32m--> 167\u001b[0m     result, _ \u001b[38;5;241m=\u001b[39m \u001b[38;5;28;43mself\u001b[39;49m\u001b[38;5;241;43m.\u001b[39;49m\u001b[43m_vformat\u001b[49m\u001b[43m(\u001b[49m\u001b[43mformat_string\u001b[49m\u001b[43m,\u001b[49m\u001b[43m \u001b[49m\u001b[43margs\u001b[49m\u001b[43m,\u001b[49m\u001b[43m \u001b[49m\u001b[43mkwargs\u001b[49m\u001b[43m,\u001b[49m\u001b[43m \u001b[49m\u001b[43mused_args\u001b[49m\u001b[43m,\u001b[49m\u001b[43m \u001b[49m\u001b[38;5;241;43m2\u001b[39;49m\u001b[43m)\u001b[49m\n\u001b[0;32m    168\u001b[0m     \u001b[38;5;28mself\u001b[39m\u001b[38;5;241m.\u001b[39mcheck_unused_args(used_args, args, kwargs)\n\u001b[0;32m    169\u001b[0m     \u001b[38;5;28;01mreturn\u001b[39;00m result\n",
      "File \u001b[1;32md:\\Gen AI\\mcq generator\\env\\lib\\string.py:207\u001b[0m, in \u001b[0;36mFormatter._vformat\u001b[1;34m(self, format_string, args, kwargs, used_args, recursion_depth, auto_arg_index)\u001b[0m\n\u001b[0;32m    203\u001b[0m     auto_arg_index \u001b[38;5;241m=\u001b[39m \u001b[38;5;28;01mFalse\u001b[39;00m\n\u001b[0;32m    205\u001b[0m \u001b[38;5;66;03m# given the field_name, find the object it references\u001b[39;00m\n\u001b[0;32m    206\u001b[0m \u001b[38;5;66;03m#  and the argument it came from\u001b[39;00m\n\u001b[1;32m--> 207\u001b[0m obj, arg_used \u001b[38;5;241m=\u001b[39m \u001b[38;5;28;43mself\u001b[39;49m\u001b[38;5;241;43m.\u001b[39;49m\u001b[43mget_field\u001b[49m\u001b[43m(\u001b[49m\u001b[43mfield_name\u001b[49m\u001b[43m,\u001b[49m\u001b[43m \u001b[49m\u001b[43margs\u001b[49m\u001b[43m,\u001b[49m\u001b[43m \u001b[49m\u001b[43mkwargs\u001b[49m\u001b[43m)\u001b[49m\n\u001b[0;32m    208\u001b[0m used_args\u001b[38;5;241m.\u001b[39madd(arg_used)\n\u001b[0;32m    210\u001b[0m \u001b[38;5;66;03m# do any conversion on the resulting object\u001b[39;00m\n",
      "File \u001b[1;32md:\\Gen AI\\mcq generator\\env\\lib\\string.py:272\u001b[0m, in \u001b[0;36mFormatter.get_field\u001b[1;34m(self, field_name, args, kwargs)\u001b[0m\n\u001b[0;32m    269\u001b[0m \u001b[38;5;28;01mdef\u001b[39;00m\u001b[38;5;250m \u001b[39m\u001b[38;5;21mget_field\u001b[39m(\u001b[38;5;28mself\u001b[39m, field_name, args, kwargs):\n\u001b[0;32m    270\u001b[0m     first, rest \u001b[38;5;241m=\u001b[39m _string\u001b[38;5;241m.\u001b[39mformatter_field_name_split(field_name)\n\u001b[1;32m--> 272\u001b[0m     obj \u001b[38;5;241m=\u001b[39m \u001b[38;5;28;43mself\u001b[39;49m\u001b[38;5;241;43m.\u001b[39;49m\u001b[43mget_value\u001b[49m\u001b[43m(\u001b[49m\u001b[43mfirst\u001b[49m\u001b[43m,\u001b[49m\u001b[43m \u001b[49m\u001b[43margs\u001b[49m\u001b[43m,\u001b[49m\u001b[43m \u001b[49m\u001b[43mkwargs\u001b[49m\u001b[43m)\u001b[49m\n\u001b[0;32m    274\u001b[0m     \u001b[38;5;66;03m# loop through the rest of the field_name, doing\u001b[39;00m\n\u001b[0;32m    275\u001b[0m     \u001b[38;5;66;03m#  getattr or getitem as needed\u001b[39;00m\n\u001b[0;32m    276\u001b[0m     \u001b[38;5;28;01mfor\u001b[39;00m is_attr, i \u001b[38;5;129;01min\u001b[39;00m rest:\n",
      "File \u001b[1;32md:\\Gen AI\\mcq generator\\env\\lib\\string.py:229\u001b[0m, in \u001b[0;36mFormatter.get_value\u001b[1;34m(self, key, args, kwargs)\u001b[0m\n\u001b[0;32m    227\u001b[0m     \u001b[38;5;28;01mreturn\u001b[39;00m args[key]\n\u001b[0;32m    228\u001b[0m \u001b[38;5;28;01melse\u001b[39;00m:\n\u001b[1;32m--> 229\u001b[0m     \u001b[38;5;28;01mreturn\u001b[39;00m \u001b[43mkwargs\u001b[49m\u001b[43m[\u001b[49m\u001b[43mkey\u001b[49m\u001b[43m]\u001b[49m\n",
      "\u001b[1;31mKeyError\u001b[0m: 'Number'"
     ]
    }
   ],
   "source": [
    "prompt_mcq_evaluater.format(Y=Y,Quiz=X,Difficulty=\"Hard\")"
   ]
  },
  {
   "cell_type": "code",
   "execution_count": 121,
   "id": "6bfaa93a",
   "metadata": {},
   "outputs": [],
   "source": [
    "from langchain_community.document_loaders import PyPDFLoader\n",
    "\n",
    "file_path = \"../nature.pdf\"\n",
    "loader = PyPDFLoader(file_path)"
   ]
  },
  {
   "cell_type": "code",
   "execution_count": 122,
   "id": "ef82d83f",
   "metadata": {},
   "outputs": [
    {
     "name": "stdout",
     "output_type": "stream",
     "text": [
      "____________________________________________________________________________________________  \n",
      "©2013  UGC-Infonet Digital Library Consortium                                                                 INFLIBNET Centre \n",
      "106\n",
      "Nature                (http://www.nature.com) \n",
      " \n",
      "Nature retains its position as the most cited weekly science journal, with over 390,000 cites, \n",
      "an increase of almost 18,000 on last year’s count. And Nature continues to publish more \n",
      "articles than any other mu ltidisciplinary journal. For 2006 Nature’s impact factor is 26.681. \n",
      "The impact factor of a journal is calculated by dividing the number of current year citations \n",
      "to the source items published in that journal during the previous two years. It is an \n",
      "independent measure calculated by Thomson/ISI (Institute for Scientific Information), \n",
      "Philadelphia, USA. \n",
      " \n",
      "UGC-Infonet Digital Library Consortium has got subscription to only the Nature Journal, \n",
      "which can be accessed at the member Universities through their registered IP addresses. \n",
      " \n",
      "Accessible to: 80 Univ. (Phase I & II) \n",
      " \n",
      "Coverage:  1997 onwards \n",
      " \n",
      "To browse or search the journal a user should click on the Nature Journal on the homepage \n",
      "of Nature as shown below. \n",
      " \n",
      " \n",
      " \n",
      " \n",
      "Searching Nature Journal \n",
      " \n",
      "User can search the journ al by entering the search term in the top right hand side search \n",
      "box as shown below in screen shot . By clicking at the \n",
      "  button the search results is \n",
      "displayed for that term. \n",
      " \n",
      " \n"
     ]
    }
   ],
   "source": [
    "docs = loader.load()\n",
    "print(docs[0].page_content[:])\n",
    "content=docs[0].page_content[:]"
   ]
  },
  {
   "cell_type": "code",
   "execution_count": 123,
   "id": "bba0b0a8",
   "metadata": {},
   "outputs": [],
   "source": [
    "import json\n",
    "result=chain.invoke({\"Text\":content,\"Difficulty\":\"Hard\",\"Number\":10,\"X\":json.dumps(X),\"Y\":json.dumps(Y)})"
   ]
  },
  {
   "cell_type": "code",
   "execution_count": 127,
   "id": "cb3a4908",
   "metadata": {},
   "outputs": [
    {
     "name": "stdout",
     "output_type": "stream",
     "text": [
      "{'1': {'mcq': 'What is the impact factor of Nature for the year 2006?', 'options': {'a': '25.681', 'b': '26.681', 'c': '27.681', 'd': '28.681'}, 'correct': 'b'}, '2': {'mcq': 'How is the impact factor of a journal calculated?', 'options': {'a': 'By dividing the number of current year citations by the total number of articles published in the journal', 'b': 'By dividing the number of current year citations to the source items published in that journal during the previous two years', 'c': 'By multiplying the number of current year citations by the total number of articles published in the journal', 'd': 'By adding the number of current year citations to the total number of articles published in the journal'}, 'correct': 'b'}, '3': {'mcq': 'Which organization calculates the impact factor of journals?', 'options': {'a': 'UGC-Infonet Digital Library Consortium', 'b': 'Nature Journal', 'c': 'Thomson/ISI (Institute for Scientific Information)', 'd': 'INFLIBNET Centre'}, 'correct': 'c'}, '4': {'mcq': 'What is the coverage period of the Nature Journal available through UGC-Infonet Digital Library Consortium?', 'options': {'a': '1995 onwards', 'b': '1996 onwards', 'c': '1997 onwards', 'd': '1998 onwards'}, 'correct': 'c'}, '5': {'mcq': 'How many universities have access to the Nature Journal through UGC-Infonet Digital Library Consortium?', 'options': {'a': '70', 'b': '75', 'c': '80', 'd': '85'}, 'correct': 'c'}, '6': {'mcq': 'What is the primary method to search for articles in the Nature Journal?', 'options': {'a': \"By browsing through the journal's table of contents\", 'b': 'By entering a search term in the top right-hand side search box', 'c': \"By contacting the journal's editorial team\", 'd': 'By using a third-party search engine'}, 'correct': 'b'}, '7': {'mcq': \"What is the significance of the Nature Journal's impact factor?\", 'options': {'a': 'It indicates the number of articles published in the journal', 'b': 'It measures the average number of citations to articles published in the journal', 'c': 'It shows the total number of subscribers to the journal', 'd': \"It represents the journal's revenue from subscriptions\"}, 'correct': 'b'}, '8': {'mcq': 'Which of the following statements about Nature is true?', 'options': {'a': 'It is a monthly journal', 'b': 'It is the least cited science journal', 'c': 'It publishes fewer articles than other multidisciplinary journals', 'd': 'It is the most cited weekly science journal'}, 'correct': 'd'}, '9': {'mcq': 'What is the role of UGC-Infonet Digital Library Consortium in relation to the Nature Journal?', 'options': {'a': 'It publishes the Nature Journal', 'b': 'It calculates the impact factor of the Nature Journal', 'c': 'It provides subscription access to the Nature Journal for member universities', 'd': 'It reviews articles submitted to the Nature Journal'}, 'correct': 'c'}, '10': {'mcq': 'What is the primary purpose of the impact factor in the context of scientific journals?', 'options': {'a': \"To measure the journal's popularity among readers\", 'b': \"To assess the quality and influence of the journal's articles\", 'c': \"To determine the journal's subscription rates\", 'd': \"To evaluate the journal's editorial policies\"}, 'correct': 'b'}, 'review': 'The MCQs are well-structured and cover a range of topics related to the Nature Journal. The difficulty level is appropriate for a hard quiz.'}\n",
      "{'1': {'mcq': 'What is the impact factor of Nature for the year 2006?', 'options': {'a': '25.681', 'b': '26.681', 'c': '27.681', 'd': '28.681'}, 'correct': 'b'}, '2': {'mcq': 'How is the impact factor of a journal calculated?', 'options': {'a': 'By dividing the number of current year citations by the total number of articles published in the journal', 'b': 'By dividing the number of current year citations to the source items published in that journal during the previous two years', 'c': 'By multiplying the number of current year citations by the total number of articles published in the journal', 'd': 'By adding the number of current year citations to the total number of articles published in the journal'}, 'correct': 'b'}, '3': {'mcq': 'Which organization calculates the impact factor of journals?', 'options': {'a': 'UGC-Infonet Digital Library Consortium', 'b': 'Nature Journal', 'c': 'Thomson/ISI (Institute for Scientific Information)', 'd': 'INFLIBNET Centre'}, 'correct': 'c'}, '4': {'mcq': 'What is the coverage period of the Nature Journal available through UGC-Infonet Digital Library Consortium?', 'options': {'a': '1995 onwards', 'b': '1996 onwards', 'c': '1997 onwards', 'd': '1998 onwards'}, 'correct': 'c'}, '5': {'mcq': 'How many universities have access to the Nature Journal through UGC-Infonet Digital Library Consortium?', 'options': {'a': '70', 'b': '75', 'c': '80', 'd': '85'}, 'correct': 'c'}, '6': {'mcq': 'What is the primary method to search for articles in the Nature Journal?', 'options': {'a': \"By browsing through the journal's table of contents\", 'b': 'By entering a search term in the top right-hand side search box', 'c': \"By contacting the journal's editorial team\", 'd': 'By using a third-party search engine'}, 'correct': 'b'}, '7': {'mcq': \"What is the significance of the Nature Journal's impact factor?\", 'options': {'a': 'It indicates the number of articles published in the journal', 'b': 'It measures the average number of citations to articles published in the journal', 'c': 'It shows the total number of subscribers to the journal', 'd': \"It represents the journal's revenue from subscriptions\"}, 'correct': 'b'}, '8': {'mcq': 'Which of the following statements about Nature is true?', 'options': {'a': 'It is a monthly journal', 'b': 'It is the least cited science journal', 'c': 'It publishes fewer articles than other multidisciplinary journals', 'd': 'It is the most cited weekly science journal'}, 'correct': 'd'}, '9': {'mcq': 'What is the role of UGC-Infonet Digital Library Consortium in relation to the Nature Journal?', 'options': {'a': 'It publishes the Nature Journal', 'b': 'It calculates the impact factor of the Nature Journal', 'c': 'It provides subscription access to the Nature Journal for member universities', 'd': 'It reviews articles submitted to the Nature Journal'}, 'correct': 'c'}, '10': {'mcq': 'What is the primary purpose of the impact factor in the context of scientific journals?', 'options': {'a': \"To measure the journal's popularity among readers\", 'b': \"To assess the quality and influence of the journal's articles\", 'c': \"To determine the journal's subscription rates\", 'd': \"To evaluate the journal's editorial policies\"}, 'correct': 'b'}}\n"
     ]
    }
   ],
   "source": [
    "print(json.loads(result[\"Review\"][7:-3]))\n",
    "print(json.loads(result[\"Quiz\"][7:-3]))"
   ]
  },
  {
   "cell_type": "markdown",
   "id": "d3575dbd",
   "metadata": {},
   "source": [
    "# **To track the Tokens we use get_openai_callbacks**"
   ]
  },
  {
   "cell_type": "code",
   "execution_count": 129,
   "id": "c1f8b399",
   "metadata": {},
   "outputs": [],
   "source": [
    "from langchain.callbacks import get_openai_callback"
   ]
  },
  {
   "cell_type": "markdown",
   "id": "bb0fb252",
   "metadata": {},
   "source": []
  },
  {
   "cell_type": "code",
   "execution_count": 130,
   "id": "bc87cff7",
   "metadata": {},
   "outputs": [
    {
     "name": "stderr",
     "output_type": "stream",
     "text": [
      "C:\\Users\\Agathiyan\\AppData\\Local\\Temp\\ipykernel_24864\\2768777818.py:2: LangChainDeprecationWarning: The method `Chain.__call__` was deprecated in langchain 0.1.0 and will be removed in 1.0. Use invoke instead.\n",
      "  response=chain(\n"
     ]
    }
   ],
   "source": [
    "with get_openai_callback() as cb:\n",
    "    response=chain(\n",
    "        {\n",
    "            \"Text\": content,\n",
    "            \"Number\": \"10\",\n",
    "            \"Difficulty\": \"Hard\",\n",
    "            \"X\": json.dumps(X),\n",
    "            \"Y\": json.dumps(Y)\n",
    "        }\n",
    "        )"
   ]
  },
  {
   "cell_type": "code",
   "execution_count": 131,
   "id": "74d42adb",
   "metadata": {},
   "outputs": [
    {
     "name": "stdout",
     "output_type": "stream",
     "text": [
      "Total Tokens:3645\n",
      "Prompt Tokens:1727\n",
      "Completion Tokens:1918\n",
      "Total Cost:0.0\n"
     ]
    }
   ],
   "source": [
    "print(f\"Total Tokens:{cb.total_tokens}\")\n",
    "print(f\"Prompt Tokens:{cb.prompt_tokens}\")\n",
    "print(f\"Completion Tokens:{cb.completion_tokens}\")\n",
    "print(f\"Total Cost:{cb.total_cost}\")"
   ]
  },
  {
   "cell_type": "code",
   "execution_count": 133,
   "id": "60a893d2",
   "metadata": {},
   "outputs": [
    {
     "name": "stdout",
     "output_type": "stream",
     "text": [
      "                                                 mcq  \\\n",
      "0  What is the impact factor of Nature for the ye...   \n",
      "1  How is the impact factor of a journal calculated?   \n",
      "2  Which organization calculates the impact facto...   \n",
      "3  What is the coverage period of the Nature Jour...   \n",
      "4  How many universities have access to the Natur...   \n",
      "5  What is the primary method to search for artic...   \n",
      "6  What is the significance of the Nature Journal...   \n",
      "7  Which of the following statements about Nature...   \n",
      "8  What is the role of UGC-Infonet Digital Librar...   \n",
      "9  What is the primary purpose of the impact fact...   \n",
      "\n",
      "                                             choices correct  \n",
      "0      a: 25.681 | b: 26.681 | c: 27.681 | d: 28.681       b  \n",
      "1  a: By dividing the number of current year cita...       b  \n",
      "2  a: UGC-Infonet Digital Library Consortium | b:...       c  \n",
      "3  a: 1995 onwards | b: 1996 onwards | c: 1997 on...       c  \n",
      "4                      a: 70 | b: 75 | c: 80 | d: 85       c  \n",
      "5  a: By browsing through the journal's table of ...       b  \n",
      "6  a: It indicates the number of articles publish...       b  \n",
      "7  a: It is a monthly journal | b: It is the leas...       d  \n",
      "8  a: It publishes the Nature Journal | b: It cal...       c  \n",
      "9  a: To measure the journal's popularity among r...       b  \n"
     ]
    }
   ],
   "source": [
    "import pandas as pd\n",
    "\n",
    "\n",
    "# Remove review key if present\n",
    "data=json.loads(result[\"Quiz\"][7:-3])\n",
    "\n",
    "# convert to df\n",
    "rows = []\n",
    "for qid, content in data.items():\n",
    "    if qid.isdigit():  # skip 'review'\n",
    "        mcq = content['mcq']\n",
    "        choices = \" | \".join([f\"{k}: {v}\" for k, v in content['options'].items()])\n",
    "        correct = content['correct']\n",
    "        rows.append({\"mcq\": mcq, \"choices\": choices, \"correct\": correct})\n",
    "\n",
    "df = pd.DataFrame(rows)\n",
    "\n",
    "print(df)\n"
   ]
  },
  {
   "cell_type": "code",
   "execution_count": 134,
   "id": "9a7f54a4",
   "metadata": {},
   "outputs": [],
   "source": [
    "df.to_csv(\"nature_mcq.csv\")"
   ]
  },
  {
   "cell_type": "code",
   "execution_count": null,
   "id": "c1462637",
   "metadata": {},
   "outputs": [],
   "source": []
  }
 ],
 "metadata": {
  "kernelspec": {
   "display_name": "Python 3",
   "language": "python",
   "name": "python3"
  },
  "language_info": {
   "codemirror_mode": {
    "name": "ipython",
    "version": 3
   },
   "file_extension": ".py",
   "mimetype": "text/x-python",
   "name": "python",
   "nbconvert_exporter": "python",
   "pygments_lexer": "ipython3",
   "version": "3.8.20"
  }
 },
 "nbformat": 4,
 "nbformat_minor": 5
}
